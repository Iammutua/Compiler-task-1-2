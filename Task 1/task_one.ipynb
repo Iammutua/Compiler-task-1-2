{
 "cells": [
  {
   "cell_type": "code",
   "execution_count": 1,
   "metadata": {},
   "outputs": [
    {
     "name": "stdout",
     "output_type": "stream",
     "text": [
      "'int main() {' is not a comment\n",
      "'// This is a comment' is a comment\n",
      "'int x = 5; // Another comment' is not a comment\n",
      "'/* This is' is not a comment\n",
      "'a multi-line' is not a comment\n",
      "'comment */' is not a comment\n",
      "'return 0;' is not a comment\n",
      "'}' is not a comment\n"
     ]
    }
   ],
   "source": [
    "import re\n",
    "\n",
    "def is_comment(line):\n",
    "    # Check for single-line comment starting with //\n",
    "    if line.strip().startswith(\"//\"):\n",
    "        return True\n",
    "    # Check for multi-line comment starting with /* and ending with */\n",
    "    return re.match(r'/\\*.*\\*/', line.strip()) is not None\n",
    "\n",
    "# Specify the file path\n",
    "file_path = \"example_task_one.cpp\"\n",
    "\n",
    "# Read the code from the file\n",
    "with open(file_path, \"r\") as file:\n",
    "    code_lines = file.readlines()\n",
    "\n",
    "# Process each line\n",
    "for line in code_lines:\n",
    "    if is_comment(line):\n",
    "        print(f\"'{line.strip()}' is a comment\")\n",
    "    else:\n",
    "        print(f\"'{line.strip()}' is not a comment\")\n"
   ]
  }
 ],
 "metadata": {
  "kernelspec": {
   "display_name": "Python 3",
   "language": "python",
   "name": "python3"
  },
  "language_info": {
   "codemirror_mode": {
    "name": "ipython",
    "version": 3
   },
   "file_extension": ".py",
   "mimetype": "text/x-python",
   "name": "python",
   "nbconvert_exporter": "python",
   "pygments_lexer": "ipython3",
   "version": "3.10.12"
  }
 },
 "nbformat": 4,
 "nbformat_minor": 2
}
